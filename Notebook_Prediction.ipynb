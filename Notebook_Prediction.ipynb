{
 "cells": [
  {
   "cell_type": "code",
   "execution_count": 1,
   "metadata": {},
   "outputs": [],
   "source": [
    "from sklearn import svm\n",
    "import numpy as np\n",
    "import pandas as pd"
   ]
  },
  {
   "cell_type": "code",
   "execution_count": 2,
   "metadata": {},
   "outputs": [],
   "source": [
    "nh = 7 #Número de fotos na base de dados happy\n",
    "ns = 8 #Número de fotos na base de dados sad\n",
    "ls = []\n",
    "lh = []\n",
    "array = np.zeros((nh + ns,6))\n",
    "filepath = 'foto_happy_angles.txt'  \n",
    "with open(filepath) as fp:  \n",
    "   for cnt, line in enumerate(fp):\n",
    "        if (\"Imagens\" not in line) and (\"Foto\" not in line):\n",
    "            parts = [p for p in line.split(\"\\n\")]\n",
    "            lh.append(parts[0])\n",
    "            \n",
    "filepath = 'foto_sad_angles.txt'  \n",
    "with open(filepath) as fp:  \n",
    "   for cnt, line in enumerate(fp):\n",
    "        if (\"Imagens\" not in line) and (\"Foto\" not in line):\n",
    "            parts = [p for p in line.split(\"\\n\")]\n",
    "            ls.append(parts[0])"
   ]
  },
  {
   "cell_type": "code",
   "execution_count": 3,
   "metadata": {},
   "outputs": [],
   "source": [
    "x = 0\n",
    "y = 0\n",
    "i = 0\n",
    "\n",
    "while i <= (ns+nh-1):\n",
    "    array[i] = ls[x:x+6]\n",
    "    x+=6\n",
    "    i+=1\n",
    "    while (i > ns-1) and (i <= (ns+nh-1)):\n",
    "        array[i] = lh[y:y+6]\n",
    "        i+=1\n",
    "        y+=6\n"
   ]
  },
  {
   "cell_type": "code",
   "execution_count": 4,
   "metadata": {},
   "outputs": [
    {
     "data": {
      "text/plain": [
       "array([[ 0.19856789,  0.67505276,  1.17668765,  2.31507278,  1.26791146,\n",
       "         0.        ],\n",
       "       [ 0.44887101,  0.44275132,  0.75837771,  2.02462753,  1.43790365,\n",
       "         0.        ],\n",
       "       [ 0.11966599,  0.44365028,  0.80655903,  2.06397425,  1.50713744,\n",
       "         0.        ],\n",
       "       [ 0.36093049,  0.56852455,  0.96767092,  2.06013309,  1.26908   ,\n",
       "         0.        ],\n",
       "       [-0.02474248,  0.46449588,  0.90747708,  2.62848577,  1.33965668,\n",
       "         0.        ],\n",
       "       [-0.00751866,  0.62238395,  1.17227388,  2.34315175,  1.42889927,\n",
       "         0.        ],\n",
       "       [ 0.00636934,  0.47220253,  0.83298127,  2.41495031,  1.30028294,\n",
       "         0.        ],\n",
       "       [ 0.01369777,  0.64278962,  1.10969973,  2.30361143,  1.16814167,\n",
       "         0.        ],\n",
       "       [ 0.35877067,  0.24761222,  0.5847061 ,  1.8894121 ,  1.7166348 ,\n",
       "         1.        ],\n",
       "       [ 0.51953835,  0.52093915,  1.03477621,  2.04519621,  1.39094283,\n",
       "         1.        ],\n",
       "       [ 0.37030068,  0.47499333,  0.95866516,  2.08531046,  1.56857411,\n",
       "         1.        ],\n",
       "       [ 0.41513375,  0.3332443 ,  0.57275324,  1.8486629 ,  1.64756822,\n",
       "         1.        ],\n",
       "       [ 0.49293351,  0.11403513,  0.22092714,  1.73032923,  1.99874482,\n",
       "         1.        ],\n",
       "       [ 0.3686959 ,  0.41670226,  0.9179497 ,  2.07221666,  1.39612413,\n",
       "         1.        ],\n",
       "       [ 0.42191672,  0.41606451,  0.86188873,  2.0370686 ,  1.53666325,\n",
       "         1.        ]])"
      ]
     },
     "execution_count": 4,
     "metadata": {},
     "output_type": "execute_result"
    }
   ],
   "source": [
    "array"
   ]
  },
  {
   "cell_type": "code",
   "execution_count": 5,
   "metadata": {},
   "outputs": [
    {
     "data": {
      "text/html": [
       "<div>\n",
       "<style scoped>\n",
       "    .dataframe tbody tr th:only-of-type {\n",
       "        vertical-align: middle;\n",
       "    }\n",
       "\n",
       "    .dataframe tbody tr th {\n",
       "        vertical-align: top;\n",
       "    }\n",
       "\n",
       "    .dataframe thead th {\n",
       "        text-align: right;\n",
       "    }\n",
       "</style>\n",
       "<table border=\"1\" class=\"dataframe\">\n",
       "  <thead>\n",
       "    <tr style=\"text-align: right;\">\n",
       "      <th></th>\n",
       "      <th>0</th>\n",
       "      <th>1</th>\n",
       "      <th>2</th>\n",
       "      <th>3</th>\n",
       "      <th>4</th>\n",
       "      <th>5</th>\n",
       "    </tr>\n",
       "  </thead>\n",
       "  <tbody>\n",
       "    <tr>\n",
       "      <th>0</th>\n",
       "      <td>0.198568</td>\n",
       "      <td>0.675053</td>\n",
       "      <td>1.176688</td>\n",
       "      <td>2.315073</td>\n",
       "      <td>1.267911</td>\n",
       "      <td>0.0</td>\n",
       "    </tr>\n",
       "    <tr>\n",
       "      <th>1</th>\n",
       "      <td>0.448871</td>\n",
       "      <td>0.442751</td>\n",
       "      <td>0.758378</td>\n",
       "      <td>2.024628</td>\n",
       "      <td>1.437904</td>\n",
       "      <td>0.0</td>\n",
       "    </tr>\n",
       "    <tr>\n",
       "      <th>2</th>\n",
       "      <td>0.119666</td>\n",
       "      <td>0.443650</td>\n",
       "      <td>0.806559</td>\n",
       "      <td>2.063974</td>\n",
       "      <td>1.507137</td>\n",
       "      <td>0.0</td>\n",
       "    </tr>\n",
       "    <tr>\n",
       "      <th>3</th>\n",
       "      <td>0.360930</td>\n",
       "      <td>0.568525</td>\n",
       "      <td>0.967671</td>\n",
       "      <td>2.060133</td>\n",
       "      <td>1.269080</td>\n",
       "      <td>0.0</td>\n",
       "    </tr>\n",
       "    <tr>\n",
       "      <th>4</th>\n",
       "      <td>-0.024742</td>\n",
       "      <td>0.464496</td>\n",
       "      <td>0.907477</td>\n",
       "      <td>2.628486</td>\n",
       "      <td>1.339657</td>\n",
       "      <td>0.0</td>\n",
       "    </tr>\n",
       "    <tr>\n",
       "      <th>5</th>\n",
       "      <td>-0.007519</td>\n",
       "      <td>0.622384</td>\n",
       "      <td>1.172274</td>\n",
       "      <td>2.343152</td>\n",
       "      <td>1.428899</td>\n",
       "      <td>0.0</td>\n",
       "    </tr>\n",
       "    <tr>\n",
       "      <th>6</th>\n",
       "      <td>0.006369</td>\n",
       "      <td>0.472203</td>\n",
       "      <td>0.832981</td>\n",
       "      <td>2.414950</td>\n",
       "      <td>1.300283</td>\n",
       "      <td>0.0</td>\n",
       "    </tr>\n",
       "    <tr>\n",
       "      <th>7</th>\n",
       "      <td>0.013698</td>\n",
       "      <td>0.642790</td>\n",
       "      <td>1.109700</td>\n",
       "      <td>2.303611</td>\n",
       "      <td>1.168142</td>\n",
       "      <td>0.0</td>\n",
       "    </tr>\n",
       "    <tr>\n",
       "      <th>8</th>\n",
       "      <td>0.358771</td>\n",
       "      <td>0.247612</td>\n",
       "      <td>0.584706</td>\n",
       "      <td>1.889412</td>\n",
       "      <td>1.716635</td>\n",
       "      <td>1.0</td>\n",
       "    </tr>\n",
       "    <tr>\n",
       "      <th>9</th>\n",
       "      <td>0.519538</td>\n",
       "      <td>0.520939</td>\n",
       "      <td>1.034776</td>\n",
       "      <td>2.045196</td>\n",
       "      <td>1.390943</td>\n",
       "      <td>1.0</td>\n",
       "    </tr>\n",
       "    <tr>\n",
       "      <th>10</th>\n",
       "      <td>0.370301</td>\n",
       "      <td>0.474993</td>\n",
       "      <td>0.958665</td>\n",
       "      <td>2.085310</td>\n",
       "      <td>1.568574</td>\n",
       "      <td>1.0</td>\n",
       "    </tr>\n",
       "    <tr>\n",
       "      <th>11</th>\n",
       "      <td>0.415134</td>\n",
       "      <td>0.333244</td>\n",
       "      <td>0.572753</td>\n",
       "      <td>1.848663</td>\n",
       "      <td>1.647568</td>\n",
       "      <td>1.0</td>\n",
       "    </tr>\n",
       "    <tr>\n",
       "      <th>12</th>\n",
       "      <td>0.492934</td>\n",
       "      <td>0.114035</td>\n",
       "      <td>0.220927</td>\n",
       "      <td>1.730329</td>\n",
       "      <td>1.998745</td>\n",
       "      <td>1.0</td>\n",
       "    </tr>\n",
       "    <tr>\n",
       "      <th>13</th>\n",
       "      <td>0.368696</td>\n",
       "      <td>0.416702</td>\n",
       "      <td>0.917950</td>\n",
       "      <td>2.072217</td>\n",
       "      <td>1.396124</td>\n",
       "      <td>1.0</td>\n",
       "    </tr>\n",
       "    <tr>\n",
       "      <th>14</th>\n",
       "      <td>0.421917</td>\n",
       "      <td>0.416065</td>\n",
       "      <td>0.861889</td>\n",
       "      <td>2.037069</td>\n",
       "      <td>1.536663</td>\n",
       "      <td>1.0</td>\n",
       "    </tr>\n",
       "  </tbody>\n",
       "</table>\n",
       "</div>"
      ],
      "text/plain": [
       "           0         1         2         3         4    5\n",
       "0   0.198568  0.675053  1.176688  2.315073  1.267911  0.0\n",
       "1   0.448871  0.442751  0.758378  2.024628  1.437904  0.0\n",
       "2   0.119666  0.443650  0.806559  2.063974  1.507137  0.0\n",
       "3   0.360930  0.568525  0.967671  2.060133  1.269080  0.0\n",
       "4  -0.024742  0.464496  0.907477  2.628486  1.339657  0.0\n",
       "5  -0.007519  0.622384  1.172274  2.343152  1.428899  0.0\n",
       "6   0.006369  0.472203  0.832981  2.414950  1.300283  0.0\n",
       "7   0.013698  0.642790  1.109700  2.303611  1.168142  0.0\n",
       "8   0.358771  0.247612  0.584706  1.889412  1.716635  1.0\n",
       "9   0.519538  0.520939  1.034776  2.045196  1.390943  1.0\n",
       "10  0.370301  0.474993  0.958665  2.085310  1.568574  1.0\n",
       "11  0.415134  0.333244  0.572753  1.848663  1.647568  1.0\n",
       "12  0.492934  0.114035  0.220927  1.730329  1.998745  1.0\n",
       "13  0.368696  0.416702  0.917950  2.072217  1.396124  1.0\n",
       "14  0.421917  0.416065  0.861889  2.037069  1.536663  1.0"
      ]
     },
     "execution_count": 5,
     "metadata": {},
     "output_type": "execute_result"
    }
   ],
   "source": [
    "dados = pd.DataFrame(data=array)\n",
    "dados\n",
    "    "
   ]
  },
  {
   "cell_type": "code",
   "execution_count": 6,
   "metadata": {},
   "outputs": [],
   "source": [
    "X = dados.iloc[:,[0,1,2,3,4]]\n",
    "y = np.ravel(dados.iloc[:,[5]])"
   ]
  },
  {
   "cell_type": "code",
   "execution_count": 7,
   "metadata": {
    "scrolled": true
   },
   "outputs": [],
   "source": [
    "dados = dados.sample(frac=1).reset_index(drop=True) #shuffle dataframe"
   ]
  },
  {
   "cell_type": "code",
   "execution_count": 8,
   "metadata": {},
   "outputs": [],
   "source": [
    "n1 = int(0.8*dados.shape[0])\n",
    "X_train = dados.iloc[:n1,[0,1,2,3,4]]\n",
    "y_train = np.ravel(dados.iloc[:n1,[5]])\n",
    "\n",
    "X_pred = dados.iloc[n1:,[0,1,2,3,4]]"
   ]
  },
  {
   "cell_type": "code",
   "execution_count": 9,
   "metadata": {},
   "outputs": [
    {
     "data": {
      "text/plain": [
       "GaussianNB(priors=None)"
      ]
     },
     "execution_count": 9,
     "metadata": {},
     "output_type": "execute_result"
    }
   ],
   "source": [
    "from sklearn.naive_bayes import GaussianNB\n",
    "model = GaussianNB()\n",
    "model.fit(X_train, y_train)"
   ]
  },
  {
   "cell_type": "code",
   "execution_count": 10,
   "metadata": {},
   "outputs": [
    {
     "data": {
      "text/plain": [
       "array([0., 1., 1.])"
      ]
     },
     "execution_count": 10,
     "metadata": {},
     "output_type": "execute_result"
    }
   ],
   "source": [
    "y_pred = model.predict(X_pred)#Output predicted\n",
    "y_pred"
   ]
  },
  {
   "cell_type": "code",
   "execution_count": 11,
   "metadata": {},
   "outputs": [
    {
     "data": {
      "text/html": [
       "<div>\n",
       "<style scoped>\n",
       "    .dataframe tbody tr th:only-of-type {\n",
       "        vertical-align: middle;\n",
       "    }\n",
       "\n",
       "    .dataframe tbody tr th {\n",
       "        vertical-align: top;\n",
       "    }\n",
       "\n",
       "    .dataframe thead th {\n",
       "        text-align: right;\n",
       "    }\n",
       "</style>\n",
       "<table border=\"1\" class=\"dataframe\">\n",
       "  <thead>\n",
       "    <tr style=\"text-align: right;\">\n",
       "      <th></th>\n",
       "      <th>5</th>\n",
       "    </tr>\n",
       "  </thead>\n",
       "  <tbody>\n",
       "    <tr>\n",
       "      <th>12</th>\n",
       "      <td>0.0</td>\n",
       "    </tr>\n",
       "    <tr>\n",
       "      <th>13</th>\n",
       "      <td>1.0</td>\n",
       "    </tr>\n",
       "    <tr>\n",
       "      <th>14</th>\n",
       "      <td>1.0</td>\n",
       "    </tr>\n",
       "  </tbody>\n",
       "</table>\n",
       "</div>"
      ],
      "text/plain": [
       "      5\n",
       "12  0.0\n",
       "13  1.0\n",
       "14  1.0"
      ]
     },
     "execution_count": 11,
     "metadata": {},
     "output_type": "execute_result"
    }
   ],
   "source": [
    "dados.iloc[n1:,[5]]"
   ]
  },
  {
   "cell_type": "code",
   "execution_count": null,
   "metadata": {},
   "outputs": [],
   "source": []
  }
 ],
 "metadata": {
  "kernelspec": {
   "display_name": "Python 3",
   "language": "python",
   "name": "python3"
  },
  "language_info": {
   "codemirror_mode": {
    "name": "ipython",
    "version": 3
   },
   "file_extension": ".py",
   "mimetype": "text/x-python",
   "name": "python",
   "nbconvert_exporter": "python",
   "pygments_lexer": "ipython3",
   "version": "3.6.4"
  }
 },
 "nbformat": 4,
 "nbformat_minor": 2
}
